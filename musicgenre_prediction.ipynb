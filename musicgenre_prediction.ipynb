{
 "cells": [
  {
   "cell_type": "markdown",
   "metadata": {},
   "source": [
    "# Music genre prediction\n",
    "\n",
    "Analysis & Model creation by Nazanin(Naz) Faghih Mirzaei\n",
    "\n",
    "The dataset for this project was obtained from kaggle : \n",
    "https://www.kaggle.com/datasets/vicsuperman/prediction-of-music-genre\n",
    "\n",
    "\n",
    "The work is structured into several parts:\n",
    "* Description of the dataset, Goal of the project and the Questions we are trying to answer\n",
    "* Preprocessing of the dataset\n",
    "* Vizualization of the dataset after cleaning\n",
    "* Creation, Fine-tuning metaparameters and result of 3 different models\n",
    "\n",
    "\n",
    "## Summary of dataseet\n",
    "\n",
    "This dataset consists of 18 columns. The target attribute for us is the music genre, there are 17 other attributes that describes properties of each song. \n",
    "\n",
    "Goal : We will use machine leearning techniques to predict the geenre of a song based on other attributes exist in the dataset. \n",
    "\n",
    "\n",
    "### Some of the important Columns\n",
    "\n",
    "* *instance_id*: id of the track\n",
    "\n",
    "* *artist_name*: name of the artist\n",
    "\n",
    "* *track_name*: name of the track\n",
    "\n",
    "* *popularity*: how popular a song is on a scale of 0 (least popular) to 100(most popular).\n",
    "\n",
    "* *acousticness*: how acoustic a song is on a scale of 0 (low confidence) to 1.0(high confidence).\n",
    "\n",
    "* *danceability*: how suitable a song is for dancing on a scale of 0 (least danceable) to 1.0(most danceable).\n",
    "\n",
    "* *duration_ms*: track length (milliseconds)\n",
    "\n",
    "* *energy*: how intense and active a song is on a scale of 0 (low) to 1.0(high).\n",
    "\n",
    "* *instrumentalness*: how vocal a song is on a scale of 0 (low) to 1.0(high).\n",
    "\n",
    "* *key*: the key the track is in. If the key was not detected, the value is -1\n",
    "\n",
    "\n",
    "* *liveness*: On a scale of 0 to 1 how likely it is that there is audience in the song. (0.8 or higher it is a live recording)\n",
    "\n",
    "* *loudness*: How loud it is (in DB)\n",
    "\n",
    "* *mode*: Whether the song is Major(1) or Minor(0).\n",
    "\n",
    "* *tempo*: estimated tempo of a track in beats per minute (BPM). \n"
   ]
  },
  {
   "cell_type": "markdown",
   "metadata": {},
   "source": [
    "## Preprocessing\n",
    "imports of required packages"
   ]
  },
  {
   "cell_type": "code",
   "execution_count": 1,
   "metadata": {},
   "outputs": [],
   "source": [
    "import pandas as pd\n",
    "import numpy as np\n",
    "import seaborn as sns\n",
    "import matplotlib.pyplot as plt\n",
    "from sklearn.preprocessing import LabelEncoder\n",
    "from sklearn.model_selection import train_test_split\n",
    "from sklearn.model_selection import GridSearchCV\n",
    "from sklearn.model_selection import RandomizedSearchCV\n",
    "from sklearn.ensemble import RandomForestClassifier\n",
    "from sklearn.neighbors import KNeighborsClassifier\n",
    "from sklearn.naive_bayes import GaussianNB\n",
    "from sklearn.linear_model import LogisticRegression\n",
    "from sklearn.metrics import accuracy_score, confusion_matrix, classification_report"
   ]
  },
  {
   "cell_type": "markdown",
   "metadata": {},
   "source": [
    "Loading the dataset and exploring it "
   ]
  },
  {
   "cell_type": "code",
   "execution_count": 2,
   "metadata": {},
   "outputs": [
    {
     "data": {
      "text/html": [
       "<div>\n",
       "<style scoped>\n",
       "    .dataframe tbody tr th:only-of-type {\n",
       "        vertical-align: middle;\n",
       "    }\n",
       "\n",
       "    .dataframe tbody tr th {\n",
       "        vertical-align: top;\n",
       "    }\n",
       "\n",
       "    .dataframe thead th {\n",
       "        text-align: right;\n",
       "    }\n",
       "</style>\n",
       "<table border=\"1\" class=\"dataframe\">\n",
       "  <thead>\n",
       "    <tr style=\"text-align: right;\">\n",
       "      <th></th>\n",
       "      <th>instance_id</th>\n",
       "      <th>artist_name</th>\n",
       "      <th>track_name</th>\n",
       "      <th>popularity</th>\n",
       "      <th>acousticness</th>\n",
       "      <th>danceability</th>\n",
       "      <th>duration_ms</th>\n",
       "      <th>energy</th>\n",
       "      <th>instrumentalness</th>\n",
       "      <th>key</th>\n",
       "      <th>liveness</th>\n",
       "      <th>loudness</th>\n",
       "      <th>mode</th>\n",
       "      <th>speechiness</th>\n",
       "      <th>tempo</th>\n",
       "      <th>obtained_date</th>\n",
       "      <th>valence</th>\n",
       "      <th>music_genre</th>\n",
       "    </tr>\n",
       "  </thead>\n",
       "  <tbody>\n",
       "    <tr>\n",
       "      <th>0</th>\n",
       "      <td>32894.0</td>\n",
       "      <td>Röyksopp</td>\n",
       "      <td>Röyksopp's Night Out</td>\n",
       "      <td>27.0</td>\n",
       "      <td>0.00468</td>\n",
       "      <td>0.652</td>\n",
       "      <td>-1.0</td>\n",
       "      <td>0.941</td>\n",
       "      <td>0.79200</td>\n",
       "      <td>A#</td>\n",
       "      <td>0.115</td>\n",
       "      <td>-5.201</td>\n",
       "      <td>Minor</td>\n",
       "      <td>0.0748</td>\n",
       "      <td>100.889</td>\n",
       "      <td>4-Apr</td>\n",
       "      <td>0.759</td>\n",
       "      <td>Electronic</td>\n",
       "    </tr>\n",
       "    <tr>\n",
       "      <th>1</th>\n",
       "      <td>46652.0</td>\n",
       "      <td>Thievery Corporation</td>\n",
       "      <td>The Shining Path</td>\n",
       "      <td>31.0</td>\n",
       "      <td>0.01270</td>\n",
       "      <td>0.622</td>\n",
       "      <td>218293.0</td>\n",
       "      <td>0.890</td>\n",
       "      <td>0.95000</td>\n",
       "      <td>D</td>\n",
       "      <td>0.124</td>\n",
       "      <td>-7.043</td>\n",
       "      <td>Minor</td>\n",
       "      <td>0.0300</td>\n",
       "      <td>115.00200000000001</td>\n",
       "      <td>4-Apr</td>\n",
       "      <td>0.531</td>\n",
       "      <td>Electronic</td>\n",
       "    </tr>\n",
       "    <tr>\n",
       "      <th>2</th>\n",
       "      <td>30097.0</td>\n",
       "      <td>Dillon Francis</td>\n",
       "      <td>Hurricane</td>\n",
       "      <td>28.0</td>\n",
       "      <td>0.00306</td>\n",
       "      <td>0.620</td>\n",
       "      <td>215613.0</td>\n",
       "      <td>0.755</td>\n",
       "      <td>0.01180</td>\n",
       "      <td>G#</td>\n",
       "      <td>0.534</td>\n",
       "      <td>-4.617</td>\n",
       "      <td>Major</td>\n",
       "      <td>0.0345</td>\n",
       "      <td>127.994</td>\n",
       "      <td>4-Apr</td>\n",
       "      <td>0.333</td>\n",
       "      <td>Electronic</td>\n",
       "    </tr>\n",
       "    <tr>\n",
       "      <th>3</th>\n",
       "      <td>62177.0</td>\n",
       "      <td>Dubloadz</td>\n",
       "      <td>Nitro</td>\n",
       "      <td>34.0</td>\n",
       "      <td>0.02540</td>\n",
       "      <td>0.774</td>\n",
       "      <td>166875.0</td>\n",
       "      <td>0.700</td>\n",
       "      <td>0.00253</td>\n",
       "      <td>C#</td>\n",
       "      <td>0.157</td>\n",
       "      <td>-4.498</td>\n",
       "      <td>Major</td>\n",
       "      <td>0.2390</td>\n",
       "      <td>128.014</td>\n",
       "      <td>4-Apr</td>\n",
       "      <td>0.270</td>\n",
       "      <td>Electronic</td>\n",
       "    </tr>\n",
       "    <tr>\n",
       "      <th>4</th>\n",
       "      <td>24907.0</td>\n",
       "      <td>What So Not</td>\n",
       "      <td>Divide &amp; Conquer</td>\n",
       "      <td>32.0</td>\n",
       "      <td>0.00465</td>\n",
       "      <td>0.638</td>\n",
       "      <td>222369.0</td>\n",
       "      <td>0.587</td>\n",
       "      <td>0.90900</td>\n",
       "      <td>F#</td>\n",
       "      <td>0.157</td>\n",
       "      <td>-6.266</td>\n",
       "      <td>Major</td>\n",
       "      <td>0.0413</td>\n",
       "      <td>145.036</td>\n",
       "      <td>4-Apr</td>\n",
       "      <td>0.323</td>\n",
       "      <td>Electronic</td>\n",
       "    </tr>\n",
       "  </tbody>\n",
       "</table>\n",
       "</div>"
      ],
      "text/plain": [
       "   instance_id           artist_name            track_name  popularity  \\\n",
       "0      32894.0              Röyksopp  Röyksopp's Night Out        27.0   \n",
       "1      46652.0  Thievery Corporation      The Shining Path        31.0   \n",
       "2      30097.0        Dillon Francis             Hurricane        28.0   \n",
       "3      62177.0              Dubloadz                 Nitro        34.0   \n",
       "4      24907.0           What So Not      Divide & Conquer        32.0   \n",
       "\n",
       "   acousticness  danceability  duration_ms  energy  instrumentalness key  \\\n",
       "0       0.00468         0.652         -1.0   0.941           0.79200  A#   \n",
       "1       0.01270         0.622     218293.0   0.890           0.95000   D   \n",
       "2       0.00306         0.620     215613.0   0.755           0.01180  G#   \n",
       "3       0.02540         0.774     166875.0   0.700           0.00253  C#   \n",
       "4       0.00465         0.638     222369.0   0.587           0.90900  F#   \n",
       "\n",
       "   liveness  loudness   mode  speechiness               tempo obtained_date  \\\n",
       "0     0.115    -5.201  Minor       0.0748             100.889         4-Apr   \n",
       "1     0.124    -7.043  Minor       0.0300  115.00200000000001         4-Apr   \n",
       "2     0.534    -4.617  Major       0.0345             127.994         4-Apr   \n",
       "3     0.157    -4.498  Major       0.2390             128.014         4-Apr   \n",
       "4     0.157    -6.266  Major       0.0413             145.036         4-Apr   \n",
       "\n",
       "   valence music_genre  \n",
       "0    0.759  Electronic  \n",
       "1    0.531  Electronic  \n",
       "2    0.333  Electronic  \n",
       "3    0.270  Electronic  \n",
       "4    0.323  Electronic  "
      ]
     },
     "execution_count": 2,
     "metadata": {},
     "output_type": "execute_result"
    }
   ],
   "source": [
    "df = pd.read_csv('/Users/nazanin/Downloads/music_genre.csv', sep=',')\n",
    "df.head()"
   ]
  },
  {
   "cell_type": "code",
   "execution_count": 3,
   "metadata": {},
   "outputs": [
    {
     "data": {
      "text/plain": [
       "(50005, 18)"
      ]
     },
     "execution_count": 3,
     "metadata": {},
     "output_type": "execute_result"
    }
   ],
   "source": [
    "df.shape"
   ]
  },
  {
   "cell_type": "code",
   "execution_count": 4,
   "metadata": {},
   "outputs": [
    {
     "data": {
      "text/html": [
       "<div>\n",
       "<style scoped>\n",
       "    .dataframe tbody tr th:only-of-type {\n",
       "        vertical-align: middle;\n",
       "    }\n",
       "\n",
       "    .dataframe tbody tr th {\n",
       "        vertical-align: top;\n",
       "    }\n",
       "\n",
       "    .dataframe thead th {\n",
       "        text-align: right;\n",
       "    }\n",
       "</style>\n",
       "<table border=\"1\" class=\"dataframe\">\n",
       "  <thead>\n",
       "    <tr style=\"text-align: right;\">\n",
       "      <th></th>\n",
       "      <th>instance_id</th>\n",
       "      <th>artist_name</th>\n",
       "      <th>track_name</th>\n",
       "      <th>popularity</th>\n",
       "      <th>acousticness</th>\n",
       "      <th>danceability</th>\n",
       "      <th>duration_ms</th>\n",
       "      <th>energy</th>\n",
       "      <th>instrumentalness</th>\n",
       "      <th>key</th>\n",
       "      <th>liveness</th>\n",
       "      <th>loudness</th>\n",
       "      <th>mode</th>\n",
       "      <th>speechiness</th>\n",
       "      <th>tempo</th>\n",
       "      <th>obtained_date</th>\n",
       "      <th>valence</th>\n",
       "      <th>music_genre</th>\n",
       "    </tr>\n",
       "  </thead>\n",
       "  <tbody>\n",
       "    <tr>\n",
       "      <th>10000</th>\n",
       "      <td>NaN</td>\n",
       "      <td>NaN</td>\n",
       "      <td>NaN</td>\n",
       "      <td>NaN</td>\n",
       "      <td>NaN</td>\n",
       "      <td>NaN</td>\n",
       "      <td>NaN</td>\n",
       "      <td>NaN</td>\n",
       "      <td>NaN</td>\n",
       "      <td>NaN</td>\n",
       "      <td>NaN</td>\n",
       "      <td>NaN</td>\n",
       "      <td>NaN</td>\n",
       "      <td>NaN</td>\n",
       "      <td>NaN</td>\n",
       "      <td>NaN</td>\n",
       "      <td>NaN</td>\n",
       "      <td>NaN</td>\n",
       "    </tr>\n",
       "    <tr>\n",
       "      <th>10001</th>\n",
       "      <td>NaN</td>\n",
       "      <td>NaN</td>\n",
       "      <td>NaN</td>\n",
       "      <td>NaN</td>\n",
       "      <td>NaN</td>\n",
       "      <td>NaN</td>\n",
       "      <td>NaN</td>\n",
       "      <td>NaN</td>\n",
       "      <td>NaN</td>\n",
       "      <td>NaN</td>\n",
       "      <td>NaN</td>\n",
       "      <td>NaN</td>\n",
       "      <td>NaN</td>\n",
       "      <td>NaN</td>\n",
       "      <td>NaN</td>\n",
       "      <td>NaN</td>\n",
       "      <td>NaN</td>\n",
       "      <td>NaN</td>\n",
       "    </tr>\n",
       "    <tr>\n",
       "      <th>10002</th>\n",
       "      <td>NaN</td>\n",
       "      <td>NaN</td>\n",
       "      <td>NaN</td>\n",
       "      <td>NaN</td>\n",
       "      <td>NaN</td>\n",
       "      <td>NaN</td>\n",
       "      <td>NaN</td>\n",
       "      <td>NaN</td>\n",
       "      <td>NaN</td>\n",
       "      <td>NaN</td>\n",
       "      <td>NaN</td>\n",
       "      <td>NaN</td>\n",
       "      <td>NaN</td>\n",
       "      <td>NaN</td>\n",
       "      <td>NaN</td>\n",
       "      <td>NaN</td>\n",
       "      <td>NaN</td>\n",
       "      <td>NaN</td>\n",
       "    </tr>\n",
       "    <tr>\n",
       "      <th>10003</th>\n",
       "      <td>NaN</td>\n",
       "      <td>NaN</td>\n",
       "      <td>NaN</td>\n",
       "      <td>NaN</td>\n",
       "      <td>NaN</td>\n",
       "      <td>NaN</td>\n",
       "      <td>NaN</td>\n",
       "      <td>NaN</td>\n",
       "      <td>NaN</td>\n",
       "      <td>NaN</td>\n",
       "      <td>NaN</td>\n",
       "      <td>NaN</td>\n",
       "      <td>NaN</td>\n",
       "      <td>NaN</td>\n",
       "      <td>NaN</td>\n",
       "      <td>NaN</td>\n",
       "      <td>NaN</td>\n",
       "      <td>NaN</td>\n",
       "    </tr>\n",
       "    <tr>\n",
       "      <th>10004</th>\n",
       "      <td>NaN</td>\n",
       "      <td>NaN</td>\n",
       "      <td>NaN</td>\n",
       "      <td>NaN</td>\n",
       "      <td>NaN</td>\n",
       "      <td>NaN</td>\n",
       "      <td>NaN</td>\n",
       "      <td>NaN</td>\n",
       "      <td>NaN</td>\n",
       "      <td>NaN</td>\n",
       "      <td>NaN</td>\n",
       "      <td>NaN</td>\n",
       "      <td>NaN</td>\n",
       "      <td>NaN</td>\n",
       "      <td>NaN</td>\n",
       "      <td>NaN</td>\n",
       "      <td>NaN</td>\n",
       "      <td>NaN</td>\n",
       "    </tr>\n",
       "  </tbody>\n",
       "</table>\n",
       "</div>"
      ],
      "text/plain": [
       "       instance_id artist_name track_name  popularity  acousticness  \\\n",
       "10000          NaN         NaN        NaN         NaN           NaN   \n",
       "10001          NaN         NaN        NaN         NaN           NaN   \n",
       "10002          NaN         NaN        NaN         NaN           NaN   \n",
       "10003          NaN         NaN        NaN         NaN           NaN   \n",
       "10004          NaN         NaN        NaN         NaN           NaN   \n",
       "\n",
       "       danceability  duration_ms  energy  instrumentalness  key  liveness  \\\n",
       "10000           NaN          NaN     NaN               NaN  NaN       NaN   \n",
       "10001           NaN          NaN     NaN               NaN  NaN       NaN   \n",
       "10002           NaN          NaN     NaN               NaN  NaN       NaN   \n",
       "10003           NaN          NaN     NaN               NaN  NaN       NaN   \n",
       "10004           NaN          NaN     NaN               NaN  NaN       NaN   \n",
       "\n",
       "       loudness mode  speechiness tempo obtained_date  valence music_genre  \n",
       "10000       NaN  NaN          NaN   NaN           NaN      NaN         NaN  \n",
       "10001       NaN  NaN          NaN   NaN           NaN      NaN         NaN  \n",
       "10002       NaN  NaN          NaN   NaN           NaN      NaN         NaN  \n",
       "10003       NaN  NaN          NaN   NaN           NaN      NaN         NaN  \n",
       "10004       NaN  NaN          NaN   NaN           NaN      NaN         NaN  "
      ]
     },
     "execution_count": 4,
     "metadata": {},
     "output_type": "execute_result"
    }
   ],
   "source": [
    "df[df.isna().any(axis=1)]"
   ]
  },
  {
   "cell_type": "markdown",
   "metadata": {},
   "source": [
    "Cleaning the dataset \n",
    "1. convert unknown values(?) to NA\n",
    "2. Drop all null values\n",
    "3. Reset indexing\n",
    "4. Removing columns that will not be of significance for prediction"
   ]
  },
  {
   "cell_type": "code",
   "execution_count": 5,
   "metadata": {},
   "outputs": [
    {
     "name": "stdout",
     "output_type": "stream",
     "text": [
      "instance_id            5\n",
      "artist_name            5\n",
      "track_name             5\n",
      "popularity             5\n",
      "acousticness           5\n",
      "danceability           5\n",
      "duration_ms            5\n",
      "energy                 5\n",
      "instrumentalness       5\n",
      "key                    5\n",
      "liveness               5\n",
      "loudness               5\n",
      "mode                   5\n",
      "speechiness            5\n",
      "tempo               4985\n",
      "obtained_date          5\n",
      "valence                5\n",
      "music_genre            5\n",
      "dtype: int64\n"
     ]
    }
   ],
   "source": [
    "df[df=='?'] = np.nan\n",
    "print(df.isnull().sum())"
   ]
  },
  {
   "cell_type": "code",
   "execution_count": 6,
   "metadata": {},
   "outputs": [],
   "source": [
    "df = df.dropna()"
   ]
  },
  {
   "cell_type": "code",
   "execution_count": 7,
   "metadata": {},
   "outputs": [],
   "source": [
    "df.reset_index(inplace = True)"
   ]
  },
  {
   "cell_type": "code",
   "execution_count": 8,
   "metadata": {},
   "outputs": [],
   "source": [
    "df = df.drop([\"index\", \"instance_id\", \"track_name\", \"artist_name\", \"obtained_date\"], axis=1)"
   ]
  },
  {
   "cell_type": "code",
   "execution_count": 9,
   "metadata": {},
   "outputs": [
    {
     "data": {
      "text/plain": [
       "(45020, 14)"
      ]
     },
     "execution_count": 9,
     "metadata": {},
     "output_type": "execute_result"
    }
   ],
   "source": [
    "df.shape"
   ]
  },
  {
   "cell_type": "code",
   "execution_count": 10,
   "metadata": {},
   "outputs": [
    {
     "data": {
      "text/html": [
       "<div>\n",
       "<style scoped>\n",
       "    .dataframe tbody tr th:only-of-type {\n",
       "        vertical-align: middle;\n",
       "    }\n",
       "\n",
       "    .dataframe tbody tr th {\n",
       "        vertical-align: top;\n",
       "    }\n",
       "\n",
       "    .dataframe thead th {\n",
       "        text-align: right;\n",
       "    }\n",
       "</style>\n",
       "<table border=\"1\" class=\"dataframe\">\n",
       "  <thead>\n",
       "    <tr style=\"text-align: right;\">\n",
       "      <th></th>\n",
       "      <th>popularity</th>\n",
       "      <th>acousticness</th>\n",
       "      <th>danceability</th>\n",
       "      <th>duration_ms</th>\n",
       "      <th>energy</th>\n",
       "      <th>instrumentalness</th>\n",
       "      <th>key</th>\n",
       "      <th>liveness</th>\n",
       "      <th>loudness</th>\n",
       "      <th>mode</th>\n",
       "      <th>speechiness</th>\n",
       "      <th>tempo</th>\n",
       "      <th>valence</th>\n",
       "      <th>music_genre</th>\n",
       "    </tr>\n",
       "  </thead>\n",
       "  <tbody>\n",
       "    <tr>\n",
       "      <th>0</th>\n",
       "      <td>27.0</td>\n",
       "      <td>0.00468</td>\n",
       "      <td>0.652</td>\n",
       "      <td>-1.0</td>\n",
       "      <td>0.941</td>\n",
       "      <td>0.79200</td>\n",
       "      <td>A#</td>\n",
       "      <td>0.115</td>\n",
       "      <td>-5.201</td>\n",
       "      <td>Minor</td>\n",
       "      <td>0.0748</td>\n",
       "      <td>100.889</td>\n",
       "      <td>0.759</td>\n",
       "      <td>Electronic</td>\n",
       "    </tr>\n",
       "    <tr>\n",
       "      <th>1</th>\n",
       "      <td>31.0</td>\n",
       "      <td>0.01270</td>\n",
       "      <td>0.622</td>\n",
       "      <td>218293.0</td>\n",
       "      <td>0.890</td>\n",
       "      <td>0.95000</td>\n",
       "      <td>D</td>\n",
       "      <td>0.124</td>\n",
       "      <td>-7.043</td>\n",
       "      <td>Minor</td>\n",
       "      <td>0.0300</td>\n",
       "      <td>115.00200000000001</td>\n",
       "      <td>0.531</td>\n",
       "      <td>Electronic</td>\n",
       "    </tr>\n",
       "    <tr>\n",
       "      <th>2</th>\n",
       "      <td>28.0</td>\n",
       "      <td>0.00306</td>\n",
       "      <td>0.620</td>\n",
       "      <td>215613.0</td>\n",
       "      <td>0.755</td>\n",
       "      <td>0.01180</td>\n",
       "      <td>G#</td>\n",
       "      <td>0.534</td>\n",
       "      <td>-4.617</td>\n",
       "      <td>Major</td>\n",
       "      <td>0.0345</td>\n",
       "      <td>127.994</td>\n",
       "      <td>0.333</td>\n",
       "      <td>Electronic</td>\n",
       "    </tr>\n",
       "    <tr>\n",
       "      <th>3</th>\n",
       "      <td>34.0</td>\n",
       "      <td>0.02540</td>\n",
       "      <td>0.774</td>\n",
       "      <td>166875.0</td>\n",
       "      <td>0.700</td>\n",
       "      <td>0.00253</td>\n",
       "      <td>C#</td>\n",
       "      <td>0.157</td>\n",
       "      <td>-4.498</td>\n",
       "      <td>Major</td>\n",
       "      <td>0.2390</td>\n",
       "      <td>128.014</td>\n",
       "      <td>0.270</td>\n",
       "      <td>Electronic</td>\n",
       "    </tr>\n",
       "    <tr>\n",
       "      <th>4</th>\n",
       "      <td>32.0</td>\n",
       "      <td>0.00465</td>\n",
       "      <td>0.638</td>\n",
       "      <td>222369.0</td>\n",
       "      <td>0.587</td>\n",
       "      <td>0.90900</td>\n",
       "      <td>F#</td>\n",
       "      <td>0.157</td>\n",
       "      <td>-6.266</td>\n",
       "      <td>Major</td>\n",
       "      <td>0.0413</td>\n",
       "      <td>145.036</td>\n",
       "      <td>0.323</td>\n",
       "      <td>Electronic</td>\n",
       "    </tr>\n",
       "  </tbody>\n",
       "</table>\n",
       "</div>"
      ],
      "text/plain": [
       "   popularity  acousticness  danceability  duration_ms  energy  \\\n",
       "0        27.0       0.00468         0.652         -1.0   0.941   \n",
       "1        31.0       0.01270         0.622     218293.0   0.890   \n",
       "2        28.0       0.00306         0.620     215613.0   0.755   \n",
       "3        34.0       0.02540         0.774     166875.0   0.700   \n",
       "4        32.0       0.00465         0.638     222369.0   0.587   \n",
       "\n",
       "   instrumentalness key  liveness  loudness   mode  speechiness  \\\n",
       "0           0.79200  A#     0.115    -5.201  Minor       0.0748   \n",
       "1           0.95000   D     0.124    -7.043  Minor       0.0300   \n",
       "2           0.01180  G#     0.534    -4.617  Major       0.0345   \n",
       "3           0.00253  C#     0.157    -4.498  Major       0.2390   \n",
       "4           0.90900  F#     0.157    -6.266  Major       0.0413   \n",
       "\n",
       "                tempo  valence music_genre  \n",
       "0             100.889    0.759  Electronic  \n",
       "1  115.00200000000001    0.531  Electronic  \n",
       "2             127.994    0.333  Electronic  \n",
       "3             128.014    0.270  Electronic  \n",
       "4             145.036    0.323  Electronic  "
      ]
     },
     "execution_count": 10,
     "metadata": {},
     "output_type": "execute_result"
    }
   ],
   "source": [
    "df.head()"
   ]
  },
  {
   "cell_type": "markdown",
   "metadata": {},
   "source": [
    "Value Key in encoded with musical notes, we decode it first"
   ]
  },
  {
   "cell_type": "code",
   "execution_count": 11,
   "metadata": {},
   "outputs": [
    {
     "data": {
      "text/plain": [
       "array(['A#', 'D', 'G#', 'C#', 'F#', 'B', 'G', 'F', 'A', 'C', 'E', 'D#'],\n",
       "      dtype=object)"
      ]
     },
     "execution_count": 11,
     "metadata": {},
     "output_type": "execute_result"
    }
   ],
   "source": [
    "df['key'].unique() "
   ]
  },
  {
   "cell_type": "code",
   "execution_count": 12,
   "metadata": {},
   "outputs": [
    {
     "data": {
      "text/plain": [
       "array([ 1,  5, 11,  4,  9,  2, 10,  8,  0,  3,  7,  6])"
      ]
     },
     "execution_count": 12,
     "metadata": {},
     "output_type": "execute_result"
    }
   ],
   "source": [
    "key_encoder = LabelEncoder()\n",
    "df['key'] = key_encoder.fit_transform(df['key'])\n",
    "df['key'].unique() "
   ]
  },
  {
   "cell_type": "code",
   "execution_count": 13,
   "metadata": {},
   "outputs": [
    {
     "data": {
      "text/plain": [
       "array([1, 0])"
      ]
     },
     "execution_count": 13,
     "metadata": {},
     "output_type": "execute_result"
    }
   ],
   "source": [
    "mode_encoder = LabelEncoder()\n",
    "df['mode'] = mode_encoder.fit_transform(df['mode'])\n",
    "df['mode'].unique() #print encoded values"
   ]
  },
  {
   "cell_type": "markdown",
   "metadata": {},
   "source": [
    "For better classification we mix some similar music genres together and rename them"
   ]
  },
  {
   "cell_type": "code",
   "execution_count": 14,
   "metadata": {},
   "outputs": [],
   "source": [
    "df['music_genre'] = df['music_genre'].replace({'Rap': 'Rap/Hip-Hop', 'Hip-Hop': 'Rap/Hip-Hop',\n",
    "                                               'Jazz': 'Jazz/Blues', 'Blues': 'Jazz/Blues',\n",
    "                                               'Anime': 'Electronic/Anime', 'Electronic': 'Electronic/Anime',\n",
    "                                               'Rock': 'Rock/Country', 'Country': 'Rock/Country'})"
   ]
  },
  {
   "cell_type": "code",
   "execution_count": 15,
   "metadata": {},
   "outputs": [
    {
     "data": {
      "text/plain": [
       "Rock/Country        9047\n",
       "Rap/Hip-Hop         9024\n",
       "Jazz/Blues          8991\n",
       "Electronic/Anime    8963\n",
       "Classical           4500\n",
       "Alternative         4495\n",
       "Name: music_genre, dtype: int64"
      ]
     },
     "execution_count": 15,
     "metadata": {},
     "output_type": "execute_result"
    }
   ],
   "source": [
    "df['music_genre'].value_counts()"
   ]
  },
  {
   "cell_type": "markdown",
   "metadata": {},
   "source": [
    "#### Training and testing data\n",
    "For model creation, we create y(targeted property) and X(predictors) and we divide them into (75,25) as train and test sets. "
   ]
  },
  {
   "cell_type": "code",
   "execution_count": 16,
   "metadata": {},
   "outputs": [],
   "source": [
    "y = df['music_genre']\n",
    "X = df.drop('music_genre', axis = 1)"
   ]
  },
  {
   "cell_type": "code",
   "execution_count": 17,
   "metadata": {},
   "outputs": [
    {
     "name": "stdout",
     "output_type": "stream",
     "text": [
      "Training Features Shape: (33765, 13)\n",
      "Training Labels Shape: (33765,)\n",
      "Testing Features Shape: (11255, 13)\n",
      "Testing Labels Shape: (11255,)\n"
     ]
    }
   ],
   "source": [
    "X_train, X_test, y_train, y_test = train_test_split(X, y, test_size=0.25, random_state=25)\n",
    "\n",
    "print('Training Features Shape:', X_train.shape)\n",
    "print('Training Labels Shape:', y_train.shape)\n",
    "print('Testing Features Shape:', X_test.shape)\n",
    "print('Testing Labels Shape:', y_test.shape)\n"
   ]
  },
  {
   "cell_type": "markdown",
   "metadata": {},
   "source": [
    "## Vizualization\n",
    "To do some visualization of the data before model creation, we have plotted some histograms of the numeric feature. "
   ]
  },
  {
   "cell_type": "code",
   "execution_count": 18,
   "metadata": {},
   "outputs": [],
   "source": [
    "numeric_features = [\"popularity\", \"acousticness\", \"danceability\", \"duration_ms\",\n",
    "                     \"energy\", \"instrumentalness\", \"liveness\", \"loudness\", \"speechiness\", \"valence\"]"
   ]
  },
  {
   "cell_type": "code",
   "execution_count": 19,
   "metadata": {},
   "outputs": [
    {
     "data": {
      "image/png": "[encoded data removed]",
      "text/plain": [
       "<Figure size 720x360 with 1 Axes>"
      ]
     },
     "metadata": {
      "needs_background": "light"
     },
     "output_type": "display_data"
    },
    {
     "data": {
      "image/png": "[encoded data removed]",
      "text/plain": [
       "<Figure size 720x360 with 1 Axes>"
      ]
     },
     "metadata": {
      "needs_background": "light"
     },
     "output_type": "display_data"
    },
    {
     "data": {
      "image/png": "[encoded data removed]",
      "text/plain": [
       "<Figure size 720x360 with 1 Axes>"
      ]
     },
     "metadata": {
      "needs_background": "light"
     },
     "output_type": "display_data"
    },
    {
     "data": {
      "image/png": "[encoded data removed]",
      "text/plain": [
       "<Figure size 720x360 with 1 Axes>"
      ]
     },
     "metadata": {
      "needs_background": "light"
     },
     "output_type": "display_data"
    },
    {
     "data": {
      "image/png": "[encoded data removed]",
      "text/plain": [
       "<Figure size 720x360 with 1 Axes>"
      ]
     },
     "metadata": {
      "needs_background": "light"
     },
     "output_type": "display_data"
    },
    {
     "data": {
      "image/png": "[encoded data removed]",
      "text/plain": [
       "<Figure size 720x360 with 1 Axes>"
      ]
     },
     "metadata": {
      "needs_background": "light"
     },
     "output_type": "display_data"
    },
    {
     "data": {
      "image/png": "[encoded data removed]",
      "text/plain": [
       "<Figure size 720x360 with 1 Axes>"
      ]
     },
     "metadata": {
      "needs_background": "light"
     },
     "output_type": "display_data"
    },
    {
     "data": {
      "image/png": "[encoded data removed]",
      "text/plain": [
       "<Figure size 720x360 with 1 Axes>"
      ]
     },
     "metadata": {
      "needs_background": "light"
     },
     "output_type": "display_data"
    },
    {
     "data": {
      "image/png": "[encoded data removed]",
      "text/plain": [
       "<Figure size 720x360 with 1 Axes>"
      ]
     },
     "metadata": {
      "needs_background": "light"
     },
     "output_type": "display_data"
    },
    {
     "data": {
      "image/png": "[encoded data removed]",
      "text/plain": [
       "<Figure size 720x360 with 1 Axes>"
      ]
     },
     "metadata": {
      "needs_background": "light"
     },
     "output_type": "display_data"
    }
   ],
   "source": [
    "for col in numeric_features :\n",
    "    plt.figure(figsize=[10,5])\n",
    "    sns.histplot(df[col])"
   ]
  },
  {
   "cell_type": "code",
   "execution_count": 20,
   "metadata": {},
   "outputs": [
    {
     "data": {
      "text/html": [
       "<div>\n",
       "<style scoped>\n",
       "    .dataframe tbody tr th:only-of-type {\n",
       "        vertical-align: middle;\n",
       "    }\n",
       "\n",
       "    .dataframe tbody tr th {\n",
       "        vertical-align: top;\n",
       "    }\n",
       "\n",
       "    .dataframe thead th {\n",
       "        text-align: right;\n",
       "    }\n",
       "</style>\n",
       "<table border=\"1\" class=\"dataframe\">\n",
       "  <thead>\n",
       "    <tr style=\"text-align: right;\">\n",
       "      <th></th>\n",
       "      <th>popularity</th>\n",
       "      <th>acousticness</th>\n",
       "      <th>danceability</th>\n",
       "      <th>duration_ms</th>\n",
       "      <th>energy</th>\n",
       "      <th>instrumentalness</th>\n",
       "      <th>key</th>\n",
       "      <th>liveness</th>\n",
       "      <th>loudness</th>\n",
       "      <th>mode</th>\n",
       "      <th>speechiness</th>\n",
       "      <th>valence</th>\n",
       "    </tr>\n",
       "  </thead>\n",
       "  <tbody>\n",
       "    <tr>\n",
       "      <th>count</th>\n",
       "      <td>45020.000000</td>\n",
       "      <td>45020.000000</td>\n",
       "      <td>45020.000000</td>\n",
       "      <td>4.502000e+04</td>\n",
       "      <td>45020.000000</td>\n",
       "      <td>45020.000000</td>\n",
       "      <td>45020.000000</td>\n",
       "      <td>45020.000000</td>\n",
       "      <td>45020.000000</td>\n",
       "      <td>45020.000000</td>\n",
       "      <td>45020.000000</td>\n",
       "      <td>45020.000000</td>\n",
       "    </tr>\n",
       "    <tr>\n",
       "      <th>mean</th>\n",
       "      <td>44.263327</td>\n",
       "      <td>0.306596</td>\n",
       "      <td>0.558532</td>\n",
       "      <td>2.211695e+05</td>\n",
       "      <td>0.599553</td>\n",
       "      <td>0.181843</td>\n",
       "      <td>5.350578</td>\n",
       "      <td>0.193951</td>\n",
       "      <td>-9.137016</td>\n",
       "      <td>0.358641</td>\n",
       "      <td>0.093783</td>\n",
       "      <td>0.456394</td>\n",
       "    </tr>\n",
       "    <tr>\n",
       "      <th>std</th>\n",
       "      <td>15.553972</td>\n",
       "      <td>0.341391</td>\n",
       "      <td>0.178858</td>\n",
       "      <td>1.276884e+05</td>\n",
       "      <td>0.264510</td>\n",
       "      <td>0.325847</td>\n",
       "      <td>3.460945</td>\n",
       "      <td>0.161715</td>\n",
       "      <td>6.156400</td>\n",
       "      <td>0.479607</td>\n",
       "      <td>0.101469</td>\n",
       "      <td>0.247161</td>\n",
       "    </tr>\n",
       "    <tr>\n",
       "      <th>min</th>\n",
       "      <td>0.000000</td>\n",
       "      <td>0.000000</td>\n",
       "      <td>0.059600</td>\n",
       "      <td>-1.000000e+00</td>\n",
       "      <td>0.000792</td>\n",
       "      <td>0.000000</td>\n",
       "      <td>0.000000</td>\n",
       "      <td>0.009670</td>\n",
       "      <td>-47.046000</td>\n",
       "      <td>0.000000</td>\n",
       "      <td>0.022300</td>\n",
       "      <td>0.000000</td>\n",
       "    </tr>\n",
       "    <tr>\n",
       "      <th>25%</th>\n",
       "      <td>34.000000</td>\n",
       "      <td>0.020100</td>\n",
       "      <td>0.442000</td>\n",
       "      <td>1.747230e+05</td>\n",
       "      <td>0.432000</td>\n",
       "      <td>0.000000</td>\n",
       "      <td>3.000000</td>\n",
       "      <td>0.096900</td>\n",
       "      <td>-10.860000</td>\n",
       "      <td>0.000000</td>\n",
       "      <td>0.036100</td>\n",
       "      <td>0.257000</td>\n",
       "    </tr>\n",
       "    <tr>\n",
       "      <th>50%</th>\n",
       "      <td>45.000000</td>\n",
       "      <td>0.145000</td>\n",
       "      <td>0.568000</td>\n",
       "      <td>2.194385e+05</td>\n",
       "      <td>0.642000</td>\n",
       "      <td>0.000159</td>\n",
       "      <td>5.000000</td>\n",
       "      <td>0.126000</td>\n",
       "      <td>-7.284000</td>\n",
       "      <td>0.000000</td>\n",
       "      <td>0.048900</td>\n",
       "      <td>0.448000</td>\n",
       "    </tr>\n",
       "    <tr>\n",
       "      <th>75%</th>\n",
       "      <td>56.000000</td>\n",
       "      <td>0.551000</td>\n",
       "      <td>0.687000</td>\n",
       "      <td>2.686400e+05</td>\n",
       "      <td>0.815250</td>\n",
       "      <td>0.154000</td>\n",
       "      <td>8.000000</td>\n",
       "      <td>0.244000</td>\n",
       "      <td>-5.177000</td>\n",
       "      <td>1.000000</td>\n",
       "      <td>0.098800</td>\n",
       "      <td>0.648000</td>\n",
       "    </tr>\n",
       "    <tr>\n",
       "      <th>max</th>\n",
       "      <td>99.000000</td>\n",
       "      <td>0.996000</td>\n",
       "      <td>0.986000</td>\n",
       "      <td>4.497994e+06</td>\n",
       "      <td>0.999000</td>\n",
       "      <td>0.996000</td>\n",
       "      <td>11.000000</td>\n",
       "      <td>1.000000</td>\n",
       "      <td>3.744000</td>\n",
       "      <td>1.000000</td>\n",
       "      <td>0.942000</td>\n",
       "      <td>0.992000</td>\n",
       "    </tr>\n",
       "  </tbody>\n",
       "</table>\n",
       "</div>"
      ],
      "text/plain": [
       "         popularity  acousticness  danceability   duration_ms        energy  \\\n",
       "count  45020.000000  45020.000000  45020.000000  4.502000e+04  45020.000000   \n",
       "mean      44.263327      0.306596      0.558532  2.211695e+05      0.599553   \n",
       "std       15.553972      0.341391      0.178858  1.276884e+05      0.264510   \n",
       "min        0.000000      0.000000      0.059600 -1.000000e+00      0.000792   \n",
       "25%       34.000000      0.020100      0.442000  1.747230e+05      0.432000   \n",
       "50%       45.000000      0.145000      0.568000  2.194385e+05      0.642000   \n",
       "75%       56.000000      0.551000      0.687000  2.686400e+05      0.815250   \n",
       "max       99.000000      0.996000      0.986000  4.497994e+06      0.999000   \n",
       "\n",
       "       instrumentalness           key      liveness      loudness  \\\n",
       "count      45020.000000  45020.000000  45020.000000  45020.000000   \n",
       "mean           0.181843      5.350578      0.193951     -9.137016   \n",
       "std            0.325847      3.460945      0.161715      6.156400   \n",
       "min            0.000000      0.000000      0.009670    -47.046000   \n",
       "25%            0.000000      3.000000      0.096900    -10.860000   \n",
       "50%            0.000159      5.000000      0.126000     -7.284000   \n",
       "75%            0.154000      8.000000      0.244000     -5.177000   \n",
       "max            0.996000     11.000000      1.000000      3.744000   \n",
       "\n",
       "               mode   speechiness       valence  \n",
       "count  45020.000000  45020.000000  45020.000000  \n",
       "mean       0.358641      0.093783      0.456394  \n",
       "std        0.479607      0.101469      0.247161  \n",
       "min        0.000000      0.022300      0.000000  \n",
       "25%        0.000000      0.036100      0.257000  \n",
       "50%        0.000000      0.048900      0.448000  \n",
       "75%        1.000000      0.098800      0.648000  \n",
       "max        1.000000      0.942000      0.992000  "
      ]
     },
     "execution_count": 20,
     "metadata": {},
     "output_type": "execute_result"
    }
   ],
   "source": [
    "df.describe()"
   ]
  },
  {
   "cell_type": "code",
   "execution_count": 21,
   "metadata": {},
   "outputs": [
    {
     "name": "stdout",
     "output_type": "stream",
     "text": [
      "(45020, 14)\n"
     ]
    }
   ],
   "source": [
    "print(df.shape)"
   ]
  },
  {
   "cell_type": "markdown",
   "metadata": {},
   "source": [
    "## Models\n",
    "\n",
    "1. *Random Forest*\n",
    "2. *K-Nereast Neighbors*\n",
    "3. *Logistic Regression*"
   ]
  },
  {
   "cell_type": "markdown",
   "metadata": {},
   "source": [
    "### 1. Random Forest"
   ]
  },
  {
   "cell_type": "code",
   "execution_count": 22,
   "metadata": {},
   "outputs": [
    {
     "name": "stdout",
     "output_type": "stream",
     "text": [
      "Accuracy on train data: 0.9948763512512957\n",
      "Accuracy on test data: 0.7177254553531763\n"
     ]
    }
   ],
   "source": [
    "\n",
    "clf = RandomForestClassifier(n_estimators=100, random_state=25)\n",
    "\n",
    "clf.fit(X_train, y_train)\n",
    "\n",
    "print(\"Accuracy on train data:\", clf.score(X_train, y_train))\n",
    "print(\"Accuracy on test data:\", clf.score(X_test, y_test))"
   ]
  },
  {
   "cell_type": "markdown",
   "metadata": {},
   "source": [
    "Fine-tuning of metaparameters"
   ]
  },
  {
   "cell_type": "markdown",
   "metadata": {},
   "source": [
    "1. 250 estimators"
   ]
  },
  {
   "cell_type": "code",
   "execution_count": 23,
   "metadata": {},
   "outputs": [
    {
     "name": "stdout",
     "output_type": "stream",
     "text": [
      "Accuracy on test data: 0.7697023545091071\n",
      "Accuracy on test data: 0.7136383829409152\n"
     ]
    }
   ],
   "source": [
    "clf_1 = RandomForestClassifier(n_estimators=250, criterion='entropy', max_depth=10, min_samples_split=2, min_samples_leaf=2, random_state=25)\n",
    "clf_1.fit(X_train, y_train)\n",
    "\n",
    "print(\"Accuracy on test data:\", clf_1.score(X_train, y_train))\n",
    "print(\"Accuracy on test data:\", clf_1.score(X_test, y_test))"
   ]
  },
  {
   "cell_type": "markdown",
   "metadata": {},
   "source": [
    "2. 500 estimators"
   ]
  },
  {
   "cell_type": "code",
   "execution_count": 24,
   "metadata": {},
   "outputs": [
    {
     "name": "stdout",
     "output_type": "stream",
     "text": [
      "Accuracy on test data: 0.9144972604768251\n",
      "Accuracy on test data: 0.7268769435806308\n"
     ]
    }
   ],
   "source": [
    "clf_2 = RandomForestClassifier(n_estimators=500, criterion='entropy', max_depth=15, min_samples_split=6, min_samples_leaf=2, random_state=25)\n",
    "clf_2.fit(X_train, y_train)\n",
    "\n",
    "print(\"Accuracy on test data:\", clf_2.score(X_train, y_train))\n",
    "print(\"Accuracy on test data:\", clf_2.score(X_test, y_test))"
   ]
  },
  {
   "cell_type": "markdown",
   "metadata": {},
   "source": [
    "Predict with best parameters"
   ]
  },
  {
   "cell_type": "code",
   "execution_count": 25,
   "metadata": {},
   "outputs": [],
   "source": [
    "clf_predictions_best = clf_2.predict(X_test)"
   ]
  },
  {
   "cell_type": "markdown",
   "metadata": {},
   "source": [
    "Results\n",
    "Accuracy"
   ]
  },
  {
   "cell_type": "code",
   "execution_count": 26,
   "metadata": {},
   "outputs": [
    {
     "name": "stdout",
     "output_type": "stream",
     "text": [
      "Random Forest accuracy: 72.69%\n"
     ]
    }
   ],
   "source": [
    "clf_acc = accuracy_score(y_test, clf_predictions_best)\n",
    "print(f'Random Forest accuracy: {clf_acc*100:.2f}%')"
   ]
  },
  {
   "cell_type": "markdown",
   "metadata": {},
   "source": [
    "Classification Report"
   ]
  },
  {
   "cell_type": "code",
   "execution_count": 27,
   "metadata": {},
   "outputs": [
    {
     "data": {
      "text/html": [
       "<div>\n",
       "<style scoped>\n",
       "    .dataframe tbody tr th:only-of-type {\n",
       "        vertical-align: middle;\n",
       "    }\n",
       "\n",
       "    .dataframe tbody tr th {\n",
       "        vertical-align: top;\n",
       "    }\n",
       "\n",
       "    .dataframe thead th {\n",
       "        text-align: right;\n",
       "    }\n",
       "</style>\n",
       "<table border=\"1\" class=\"dataframe\">\n",
       "  <thead>\n",
       "    <tr style=\"text-align: right;\">\n",
       "      <th></th>\n",
       "      <th>f1-score</th>\n",
       "      <th>precision</th>\n",
       "      <th>recall</th>\n",
       "      <th>support</th>\n",
       "    </tr>\n",
       "  </thead>\n",
       "  <tbody>\n",
       "    <tr>\n",
       "      <th>Alternative</th>\n",
       "      <td>0.358329</td>\n",
       "      <td>0.517355</td>\n",
       "      <td>0.274081</td>\n",
       "      <td>1142.000000</td>\n",
       "    </tr>\n",
       "    <tr>\n",
       "      <th>Classical</th>\n",
       "      <td>0.848995</td>\n",
       "      <td>0.867240</td>\n",
       "      <td>0.831502</td>\n",
       "      <td>1092.000000</td>\n",
       "    </tr>\n",
       "    <tr>\n",
       "      <th>Electronic/Anime</th>\n",
       "      <td>0.751335</td>\n",
       "      <td>0.764650</td>\n",
       "      <td>0.738476</td>\n",
       "      <td>2191.000000</td>\n",
       "    </tr>\n",
       "    <tr>\n",
       "      <th>Jazz/Blues</th>\n",
       "      <td>0.689837</td>\n",
       "      <td>0.685315</td>\n",
       "      <td>0.694420</td>\n",
       "      <td>2258.000000</td>\n",
       "    </tr>\n",
       "    <tr>\n",
       "      <th>Rap/Hip-Hop</th>\n",
       "      <td>0.847216</td>\n",
       "      <td>0.815538</td>\n",
       "      <td>0.881455</td>\n",
       "      <td>2227.000000</td>\n",
       "    </tr>\n",
       "    <tr>\n",
       "      <th>Rock/Country</th>\n",
       "      <td>0.705081</td>\n",
       "      <td>0.648639</td>\n",
       "      <td>0.772281</td>\n",
       "      <td>2345.000000</td>\n",
       "    </tr>\n",
       "    <tr>\n",
       "      <th>accuracy</th>\n",
       "      <td>0.726877</td>\n",
       "      <td>0.726877</td>\n",
       "      <td>0.726877</td>\n",
       "      <td>0.726877</td>\n",
       "    </tr>\n",
       "    <tr>\n",
       "      <th>macro avg</th>\n",
       "      <td>0.700132</td>\n",
       "      <td>0.716456</td>\n",
       "      <td>0.698702</td>\n",
       "      <td>11255.000000</td>\n",
       "    </tr>\n",
       "    <tr>\n",
       "      <th>weighted avg</th>\n",
       "      <td>0.717930</td>\n",
       "      <td>0.719493</td>\n",
       "      <td>0.726877</td>\n",
       "      <td>11255.000000</td>\n",
       "    </tr>\n",
       "  </tbody>\n",
       "</table>\n",
       "</div>"
      ],
      "text/plain": [
       "                  f1-score  precision    recall       support\n",
       "Alternative       0.358329   0.517355  0.274081   1142.000000\n",
       "Classical         0.848995   0.867240  0.831502   1092.000000\n",
       "Electronic/Anime  0.751335   0.764650  0.738476   2191.000000\n",
       "Jazz/Blues        0.689837   0.685315  0.694420   2258.000000\n",
       "Rap/Hip-Hop       0.847216   0.815538  0.881455   2227.000000\n",
       "Rock/Country      0.705081   0.648639  0.772281   2345.000000\n",
       "accuracy          0.726877   0.726877  0.726877      0.726877\n",
       "macro avg         0.700132   0.716456  0.698702  11255.000000\n",
       "weighted avg      0.717930   0.719493  0.726877  11255.000000"
      ]
     },
     "execution_count": 27,
     "metadata": {},
     "output_type": "execute_result"
    }
   ],
   "source": [
    "clf_report = classification_report(y_test, clf_predictions_best, output_dict=True)\n",
    "df_report = pd.DataFrame(clf_report).transpose()\n",
    "df_report"
   ]
  },
  {
   "cell_type": "markdown",
   "metadata": {},
   "source": [
    "Heatmap of a confusion matrix"
   ]
  },
  {
   "cell_type": "code",
   "execution_count": 28,
   "metadata": {},
   "outputs": [
    {
     "data": {
      "image/png": "[encoded data removed]",
      "text/plain": [
       "<Figure size 720x360 with 2 Axes>"
      ]
     },
     "metadata": {
      "needs_background": "light"
     },
     "output_type": "display_data"
    }
   ],
   "source": [
    "plt.figure(figsize = (10, 5))\n",
    "sns.heatmap(confusion_matrix(y_test, clf_predictions_best),\n",
    "    annot = True,\n",
    "    fmt = \".0f\",\n",
    "    linewidths = 1,\n",
    "    linecolor = \"red\",\n",
    "    xticklabels = clf_2.classes_,\n",
    "    yticklabels = clf_2.classes_)\n",
    "plt.xlabel(\"Actual values\")\n",
    "plt.ylabel(\"Predicted values\")\n",
    "plt.tight_layout()\n",
    "plt.show()"
   ]
  },
  {
   "cell_type": "markdown",
   "metadata": {},
   "source": [
    "plot the 5 most important features for random forest classifier in its decesion making"
   ]
  },
  {
   "cell_type": "code",
   "execution_count": 29,
   "metadata": {},
   "outputs": [
    {
     "data": {
      "image/png": "[encoded data removed]",
      "text/plain": [
       "<Figure size 432x288 with 1 Axes>"
      ]
     },
     "metadata": {
      "needs_background": "light"
     },
     "output_type": "display_data"
    }
   ],
   "source": [
    "feat_importances = pd.Series(clf_2.feature_importances_, index=X.columns)\n",
    "feat_importances.nlargest(5).plot(kind='barh').invert_yaxis()"
   ]
  },
  {
   "cell_type": "markdown",
   "metadata": {},
   "source": [
    "### 2. KNN"
   ]
  },
  {
   "cell_type": "code",
   "execution_count": 30,
   "metadata": {},
   "outputs": [
    {
     "name": "stdout",
     "output_type": "stream",
     "text": [
      "Accuracy on train data: 0.46974677920924035\n",
      "Accuracy on test data: 0.29569080408707243\n"
     ]
    }
   ],
   "source": [
    "knn = KNeighborsClassifier(n_neighbors = 8)\n",
    "knn.fit(X_train,y_train)\n",
    "\n",
    "print(\"Accuracy on train data:\", knn.score(X_train, y_train))\n",
    "print(\"Accuracy on test data:\", knn.score(X_test, y_test))"
   ]
  },
  {
   "cell_type": "markdown",
   "metadata": {},
   "source": [
    "Fine-tuning of metaparameters"
   ]
  },
  {
   "cell_type": "markdown",
   "metadata": {},
   "source": [
    "Trying k=1 to k=8 and plot the results"
   ]
  },
  {
   "cell_type": "code",
   "execution_count": 31,
   "metadata": {},
   "outputs": [
    {
     "data": {
      "image/png": "[encoded data removed]",
      "text/plain": [
       "<Figure size 432x288 with 1 Axes>"
      ]
     },
     "metadata": {
      "needs_background": "light"
     },
     "output_type": "display_data"
    }
   ],
   "source": [
    "neighbors = np.arange(1, 8)\n",
    "train_accuracy = np.empty(len(neighbors))\n",
    "test_accuracy = np.empty(len(neighbors))\n",
    "\n",
    "\n",
    "for i, k in enumerate(neighbors):\n",
    "    \n",
    "\n",
    "    knn = KNeighborsClassifier(n_neighbors = k)\n",
    "\n",
    "\n",
    "    knn.fit(X_train, y_train)\n",
    "\n",
    "\n",
    "    train_accuracy[i] = knn.score(X_train, y_train)\n",
    "\n",
    "\n",
    "    test_accuracy[i] = knn.score(X_test, y_test)\n",
    "\n",
    "\n",
    "plt.title('k-NN: Varying Number of Neighbors')\n",
    "plt.plot(neighbors, test_accuracy, label = 'Testing Accuracy')\n",
    "plt.plot(neighbors, train_accuracy, label = 'Training Accuracy')\n",
    "plt.legend()\n",
    "plt.xlabel('Number of Neighbors')\n",
    "plt.ylabel('Accuracy')\n",
    "plt.show()"
   ]
  },
  {
   "cell_type": "markdown",
   "metadata": {},
   "source": [
    "Predict with best parameters"
   ]
  },
  {
   "cell_type": "code",
   "execution_count": 32,
   "metadata": {},
   "outputs": [],
   "source": [
    "knn_best = KNeighborsClassifier(n_neighbors = 1)\n",
    "\n",
    "knn_best.fit(X_train,y_train)\n",
    "knn_predictions_best = knn_best.predict(X_test)"
   ]
  },
  {
   "cell_type": "markdown",
   "metadata": {},
   "source": [
    "Results\n",
    "Accuracy"
   ]
  },
  {
   "cell_type": "code",
   "execution_count": 33,
   "metadata": {},
   "outputs": [
    {
     "name": "stdout",
     "output_type": "stream",
     "text": [
      "KNN accuracy: 32.15%\n"
     ]
    }
   ],
   "source": [
    "knn_acc = accuracy_score(y_test, knn_predictions_best)\n",
    "print(f'KNN accuracy: {knn_acc*100:.2f}%')"
   ]
  },
  {
   "cell_type": "markdown",
   "metadata": {},
   "source": [
    "Classification Report"
   ]
  },
  {
   "cell_type": "code",
   "execution_count": 34,
   "metadata": {},
   "outputs": [
    {
     "data": {
      "text/html": [
       "<div>\n",
       "<style scoped>\n",
       "    .dataframe tbody tr th:only-of-type {\n",
       "        vertical-align: middle;\n",
       "    }\n",
       "\n",
       "    .dataframe tbody tr th {\n",
       "        vertical-align: top;\n",
       "    }\n",
       "\n",
       "    .dataframe thead th {\n",
       "        text-align: right;\n",
       "    }\n",
       "</style>\n",
       "<table border=\"1\" class=\"dataframe\">\n",
       "  <thead>\n",
       "    <tr style=\"text-align: right;\">\n",
       "      <th></th>\n",
       "      <th>f1-score</th>\n",
       "      <th>precision</th>\n",
       "      <th>recall</th>\n",
       "      <th>support</th>\n",
       "    </tr>\n",
       "  </thead>\n",
       "  <tbody>\n",
       "    <tr>\n",
       "      <th>Alternative</th>\n",
       "      <td>0.138630</td>\n",
       "      <td>0.129057</td>\n",
       "      <td>0.149737</td>\n",
       "      <td>1142.000000</td>\n",
       "    </tr>\n",
       "    <tr>\n",
       "      <th>Classical</th>\n",
       "      <td>0.311533</td>\n",
       "      <td>0.342481</td>\n",
       "      <td>0.285714</td>\n",
       "      <td>1092.000000</td>\n",
       "    </tr>\n",
       "    <tr>\n",
       "      <th>Electronic/Anime</th>\n",
       "      <td>0.349763</td>\n",
       "      <td>0.363726</td>\n",
       "      <td>0.336832</td>\n",
       "      <td>2191.000000</td>\n",
       "    </tr>\n",
       "    <tr>\n",
       "      <th>Jazz/Blues</th>\n",
       "      <td>0.303344</td>\n",
       "      <td>0.295751</td>\n",
       "      <td>0.311337</td>\n",
       "      <td>2258.000000</td>\n",
       "    </tr>\n",
       "    <tr>\n",
       "      <th>Rap/Hip-Hop</th>\n",
       "      <td>0.456693</td>\n",
       "      <td>0.445203</td>\n",
       "      <td>0.468792</td>\n",
       "      <td>2227.000000</td>\n",
       "    </tr>\n",
       "    <tr>\n",
       "      <th>Rock/Country</th>\n",
       "      <td>0.281812</td>\n",
       "      <td>0.286596</td>\n",
       "      <td>0.277186</td>\n",
       "      <td>2345.000000</td>\n",
       "    </tr>\n",
       "    <tr>\n",
       "      <th>accuracy</th>\n",
       "      <td>0.321457</td>\n",
       "      <td>0.321457</td>\n",
       "      <td>0.321457</td>\n",
       "      <td>0.321457</td>\n",
       "    </tr>\n",
       "    <tr>\n",
       "      <th>macro avg</th>\n",
       "      <td>0.306962</td>\n",
       "      <td>0.310469</td>\n",
       "      <td>0.304933</td>\n",
       "      <td>11255.000000</td>\n",
       "    </tr>\n",
       "    <tr>\n",
       "      <th>weighted avg</th>\n",
       "      <td>0.322319</td>\n",
       "      <td>0.324268</td>\n",
       "      <td>0.321457</td>\n",
       "      <td>11255.000000</td>\n",
       "    </tr>\n",
       "  </tbody>\n",
       "</table>\n",
       "</div>"
      ],
      "text/plain": [
       "                  f1-score  precision    recall       support\n",
       "Alternative       0.138630   0.129057  0.149737   1142.000000\n",
       "Classical         0.311533   0.342481  0.285714   1092.000000\n",
       "Electronic/Anime  0.349763   0.363726  0.336832   2191.000000\n",
       "Jazz/Blues        0.303344   0.295751  0.311337   2258.000000\n",
       "Rap/Hip-Hop       0.456693   0.445203  0.468792   2227.000000\n",
       "Rock/Country      0.281812   0.286596  0.277186   2345.000000\n",
       "accuracy          0.321457   0.321457  0.321457      0.321457\n",
       "macro avg         0.306962   0.310469  0.304933  11255.000000\n",
       "weighted avg      0.322319   0.324268  0.321457  11255.000000"
      ]
     },
     "execution_count": 34,
     "metadata": {},
     "output_type": "execute_result"
    }
   ],
   "source": [
    "knn_report = classification_report(y_test, knn_predictions_best, output_dict=True)\n",
    "df_report = pd.DataFrame(knn_report).transpose()\n",
    "df_report"
   ]
  },
  {
   "cell_type": "markdown",
   "metadata": {},
   "source": [
    "Heatmap of confusion matrix"
   ]
  },
  {
   "cell_type": "code",
   "execution_count": 35,
   "metadata": {},
   "outputs": [
    {
     "data": {
      "image/png": "[encoded data removed]",
      "text/plain": [
       "<Figure size 720x360 with 2 Axes>"
      ]
     },
     "metadata": {
      "needs_background": "light"
     },
     "output_type": "display_data"
    }
   ],
   "source": [
    "plt.figure(figsize = (10, 5))\n",
    "sns.heatmap(confusion_matrix(y_test, knn_predictions_best),\n",
    "    annot = True,\n",
    "    fmt = \".0f\",\n",
    "    linewidths = 1,\n",
    "    linecolor = \"red\",\n",
    "    xticklabels = knn.classes_,\n",
    "    yticklabels = knn.classes_)\n",
    "plt.xlabel(\"Actual values\")\n",
    "plt.ylabel(\"Predicted values\")\n",
    "plt.tight_layout()\n",
    "plt.show()"
   ]
  },
  {
   "cell_type": "markdown",
   "metadata": {},
   "source": [
    "### 3. Logistic Regression"
   ]
  },
  {
   "cell_type": "code",
   "execution_count": 36,
   "metadata": {},
   "outputs": [
    {
     "name": "stdout",
     "output_type": "stream",
     "text": [
      "Accuracy on train data: 0.3666518584332889\n",
      "Accuracy on test data: 0.3593958240781875\n"
     ]
    },
    {
     "name": "stderr",
     "output_type": "stream",
     "text": [
      "/Users/nazanin/.pyenv/versions/3.6.15/lib/python3.6/site-packages/sklearn/linear_model/_logistic.py:765: ConvergenceWarning: lbfgs failed to converge (status=1):\n",
      "STOP: TOTAL NO. of ITERATIONS REACHED LIMIT.\n",
      "\n",
      "Increase the number of iterations (max_iter) or scale the data as shown in:\n",
      "    https://scikit-learn.org/stable/modules/preprocessing.html\n",
      "Please also refer to the documentation for alternative solver options:\n",
      "    https://scikit-learn.org/stable/modules/linear_model.html#logistic-regression\n",
      "  extra_warning_msg=_LOGISTIC_SOLVER_CONVERGENCE_MSG)\n"
     ]
    }
   ],
   "source": [
    "log_reg = LogisticRegression()\n",
    "\n",
    "\n",
    "log_reg.fit(X_train,y_train)\n",
    "\n",
    "\n",
    "print(\"Accuracy on train data:\", log_reg.score(X_train, y_train))\n",
    "print(\"Accuracy on test data:\", log_reg.score(X_test, y_test))"
   ]
  },
  {
   "cell_type": "markdown",
   "metadata": {},
   "source": [
    "Fine-tuning of metaparameters\n",
    "1"
   ]
  },
  {
   "cell_type": "code",
   "execution_count": 37,
   "metadata": {},
   "outputs": [
    {
     "name": "stdout",
     "output_type": "stream",
     "text": [
      "Accuracy on test data: 0.443269657929809\n",
      "Accuracy on test data: 0.43713904931141717\n"
     ]
    }
   ],
   "source": [
    "logreg_1 = LogisticRegression(solver=\"liblinear\", penalty=\"l2\")\n",
    "\n",
    "logreg_1.fit(X_train, y_train)\n",
    "\n",
    "print(\"Accuracy on test data:\", logreg_1.score(X_train, y_train))\n",
    "print(\"Accuracy on test data:\", logreg_1.score(X_test, y_test))"
   ]
  },
  {
   "cell_type": "markdown",
   "metadata": {},
   "source": [
    "2"
   ]
  },
  {
   "cell_type": "code",
   "execution_count": 38,
   "metadata": {},
   "outputs": [
    {
     "name": "stdout",
     "output_type": "stream",
     "text": [
      "Accuracy on test data: 0.6446320154005627\n",
      "Accuracy on test data: 0.6364282541092847\n"
     ]
    }
   ],
   "source": [
    "logreg_2 = LogisticRegression(solver=\"liblinear\", penalty=\"l1\")\n",
    "\n",
    "logreg_2.fit(X_train, y_train)\n",
    "\n",
    "print(\"Accuracy on test data:\", logreg_2.score(X_train, y_train))\n",
    "print(\"Accuracy on test data:\", logreg_2.score(X_test, y_test))"
   ]
  },
  {
   "cell_type": "markdown",
   "metadata": {},
   "source": [
    "3"
   ]
  },
  {
   "cell_type": "code",
   "execution_count": 39,
   "metadata": {},
   "outputs": [
    {
     "name": "stdout",
     "output_type": "stream",
     "text": [
      "Accuracy on test data: 0.2001776988005331\n",
      "Accuracy on test data: 0.20044424700133273\n"
     ]
    },
    {
     "name": "stderr",
     "output_type": "stream",
     "text": [
      "/Users/nazanin/.pyenv/versions/3.6.15/lib/python3.6/site-packages/sklearn/linear_model/_sag.py:329: ConvergenceWarning: The max_iter was reached which means the coef_ did not converge\n",
      "  \"the coef_ did not converge\", ConvergenceWarning)\n"
     ]
    }
   ],
   "source": [
    "logreg_3 = LogisticRegression(solver=\"saga\", penalty=\"elasticnet\", l1_ratio=0.5)\n",
    "\n",
    "logreg_3.fit(X_train, y_train)\n",
    "\n",
    "print(\"Accuracy on test data:\", logreg_3.score(X_train, y_train))\n",
    "print(\"Accuracy on test data:\", logreg_3.score(X_test, y_test))"
   ]
  },
  {
   "cell_type": "markdown",
   "metadata": {},
   "source": [
    "Predict with best parameters"
   ]
  },
  {
   "cell_type": "code",
   "execution_count": 40,
   "metadata": {},
   "outputs": [],
   "source": [
    "logreg_predictions_best = logreg_2.predict(X_test)"
   ]
  },
  {
   "cell_type": "markdown",
   "metadata": {},
   "source": [
    "Results\n",
    "Accuracy"
   ]
  },
  {
   "cell_type": "code",
   "execution_count": 42,
   "metadata": {},
   "outputs": [
    {
     "name": "stdout",
     "output_type": "stream",
     "text": [
      "Logistic Regression accuracy: 63.64%\n"
     ]
    }
   ],
   "source": [
    "logreg_acc = accuracy_score(y_test, logreg_predictions_best)\n",
    "print(f'Logistic Regression accuracy: {logreg_acc*100:.2f}%')"
   ]
  },
  {
   "cell_type": "markdown",
   "metadata": {},
   "source": [
    "Classification Report"
   ]
  },
  {
   "cell_type": "code",
   "execution_count": 43,
   "metadata": {},
   "outputs": [
    {
     "data": {
      "text/html": [
       "<div>\n",
       "<style scoped>\n",
       "    .dataframe tbody tr th:only-of-type {\n",
       "        vertical-align: middle;\n",
       "    }\n",
       "\n",
       "    .dataframe tbody tr th {\n",
       "        vertical-align: top;\n",
       "    }\n",
       "\n",
       "    .dataframe thead th {\n",
       "        text-align: right;\n",
       "    }\n",
       "</style>\n",
       "<table border=\"1\" class=\"dataframe\">\n",
       "  <thead>\n",
       "    <tr style=\"text-align: right;\">\n",
       "      <th></th>\n",
       "      <th>f1-score</th>\n",
       "      <th>precision</th>\n",
       "      <th>recall</th>\n",
       "      <th>support</th>\n",
       "    </tr>\n",
       "  </thead>\n",
       "  <tbody>\n",
       "    <tr>\n",
       "      <th>Alternative</th>\n",
       "      <td>0.108646</td>\n",
       "      <td>0.430303</td>\n",
       "      <td>0.062172</td>\n",
       "      <td>1142.000000</td>\n",
       "    </tr>\n",
       "    <tr>\n",
       "      <th>Classical</th>\n",
       "      <td>0.786588</td>\n",
       "      <td>0.778475</td>\n",
       "      <td>0.794872</td>\n",
       "      <td>1092.000000</td>\n",
       "    </tr>\n",
       "    <tr>\n",
       "      <th>Electronic/Anime</th>\n",
       "      <td>0.659686</td>\n",
       "      <td>0.609520</td>\n",
       "      <td>0.718850</td>\n",
       "      <td>2191.000000</td>\n",
       "    </tr>\n",
       "    <tr>\n",
       "      <th>Jazz/Blues</th>\n",
       "      <td>0.531144</td>\n",
       "      <td>0.583864</td>\n",
       "      <td>0.487157</td>\n",
       "      <td>2258.000000</td>\n",
       "    </tr>\n",
       "    <tr>\n",
       "      <th>Rap/Hip-Hop</th>\n",
       "      <td>0.797849</td>\n",
       "      <td>0.765580</td>\n",
       "      <td>0.832959</td>\n",
       "      <td>2227.000000</td>\n",
       "    </tr>\n",
       "    <tr>\n",
       "      <th>Rock/Country</th>\n",
       "      <td>0.624056</td>\n",
       "      <td>0.549287</td>\n",
       "      <td>0.722388</td>\n",
       "      <td>2345.000000</td>\n",
       "    </tr>\n",
       "    <tr>\n",
       "      <th>accuracy</th>\n",
       "      <td>0.636428</td>\n",
       "      <td>0.636428</td>\n",
       "      <td>0.636428</td>\n",
       "      <td>0.636428</td>\n",
       "    </tr>\n",
       "    <tr>\n",
       "      <th>macro avg</th>\n",
       "      <td>0.584662</td>\n",
       "      <td>0.619505</td>\n",
       "      <td>0.603066</td>\n",
       "      <td>11255.000000</td>\n",
       "    </tr>\n",
       "    <tr>\n",
       "      <th>weighted avg</th>\n",
       "      <td>0.610213</td>\n",
       "      <td>0.620911</td>\n",
       "      <td>0.636428</td>\n",
       "      <td>11255.000000</td>\n",
       "    </tr>\n",
       "  </tbody>\n",
       "</table>\n",
       "</div>"
      ],
      "text/plain": [
       "                  f1-score  precision    recall       support\n",
       "Alternative       0.108646   0.430303  0.062172   1142.000000\n",
       "Classical         0.786588   0.778475  0.794872   1092.000000\n",
       "Electronic/Anime  0.659686   0.609520  0.718850   2191.000000\n",
       "Jazz/Blues        0.531144   0.583864  0.487157   2258.000000\n",
       "Rap/Hip-Hop       0.797849   0.765580  0.832959   2227.000000\n",
       "Rock/Country      0.624056   0.549287  0.722388   2345.000000\n",
       "accuracy          0.636428   0.636428  0.636428      0.636428\n",
       "macro avg         0.584662   0.619505  0.603066  11255.000000\n",
       "weighted avg      0.610213   0.620911  0.636428  11255.000000"
      ]
     },
     "execution_count": 43,
     "metadata": {},
     "output_type": "execute_result"
    }
   ],
   "source": [
    "logreg_report = classification_report(y_test, logreg_predictions_best, output_dict=True)\n",
    "df_report = pd.DataFrame(logreg_report).transpose()\n",
    "df_report"
   ]
  },
  {
   "cell_type": "markdown",
   "metadata": {},
   "source": [
    "Heatmap of confusion matrix"
   ]
  },
  {
   "cell_type": "code",
   "execution_count": 44,
   "metadata": {},
   "outputs": [
    {
     "data": {
      "image/png": "[encoded data removed]",
      "text/plain": [
       "<Figure size 720x360 with 2 Axes>"
      ]
     },
     "metadata": {
      "needs_background": "light"
     },
     "output_type": "display_data"
    }
   ],
   "source": [
    "plt.figure(figsize = (10, 5))\n",
    "sns.heatmap(confusion_matrix(y_test, logreg_predictions_best),\n",
    "    annot = True,\n",
    "    fmt = \".0f\",\n",
    "    linewidths = 1,\n",
    "    linecolor = \"red\",\n",
    "    xticklabels = logreg_2.classes_,\n",
    "    yticklabels = logreg_2.classes_)\n",
    "plt.xlabel(\"Actual values\")\n",
    "plt.ylabel(\"Predicted values\")\n",
    "plt.tight_layout()\n",
    "plt.show()"
   ]
  },
  {
   "cell_type": "code",
   "execution_count": null,
   "metadata": {},
   "outputs": [],
   "source": []
  }
 ],
 "metadata": {
  "kernelspec": {
   "display_name": "Python 3",
   "language": "python",
   "name": "python3"
  },
  "language_info": {
   "codemirror_mode": {
    "name": "ipython",
    "version": 3
   },
   "file_extension": ".py",
   "mimetype": "text/x-python",
   "name": "python",
   "nbconvert_exporter": "python",
   "pygments_lexer": "ipython3",
   "version": "3.6.15"
  }
 },
 "nbformat": 4,
 "nbformat_minor": 1
}
